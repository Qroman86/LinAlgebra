{
 "cells": [
  {
   "cell_type": "code",
   "execution_count": 83,
   "metadata": {},
   "outputs": [],
   "source": [
    "a = [[4,5,2],[1,-2,3]]\n",
    "b = [[4,1],[5,-2],[2,3]]\n"
   ]
  },
  {
   "cell_type": "code",
   "execution_count": 84,
   "metadata": {},
   "outputs": [],
   "source": [
    "def matrix_multiply(A, B):\n",
    "    if len(A[0])!=len(B):\n",
    "        print('Не совпадают размерности')\n",
    "        return None\n",
    "    C = []\n",
    "    \n",
    "    for a_raw in A:\n",
    "        index_a_raw = 0 \n",
    "        c_raw = []\n",
    "        index_b_column = 0\n",
    "        while index_b_column < len(B[0]):\n",
    "            index_a_element = 0\n",
    "            c = 0\n",
    "            while index_a_element < len(a_raw):           \n",
    "                \n",
    "                for b_raw in B:\n",
    "                    a = a_raw[index_a_element]\n",
    "                    b = b_raw[index_b_column]\n",
    "                   \n",
    "                    c += a*b\n",
    "                 \n",
    "                    index_a_element += 1\n",
    "            c_raw.append(c)\n",
    "           \n",
    "                \n",
    "            index_b_column += 1\n",
    "        C.append(c_raw)   \n",
    "        index_a_raw += 1        \n",
    "\n",
    "    return C"
   ]
  },
  {
   "cell_type": "code",
   "execution_count": 85,
   "metadata": {},
   "outputs": [
    {
     "name": "stdout",
     "output_type": "stream",
     "text": [
      "[[45, 0], [0, 14]]\n"
     ]
    }
   ],
   "source": [
    "print(matrix_multiply(a,b))"
   ]
  },
  {
   "cell_type": "code",
   "execution_count": 86,
   "metadata": {},
   "outputs": [
    {
     "name": "stdout",
     "output_type": "stream",
     "text": [
      "Не совпадают размерности\n",
      "None\n"
     ]
    }
   ],
   "source": [
    "c = [[1,2],[1,2]]\n",
    "print(matrix_multiply(a,c))"
   ]
  },
  {
   "cell_type": "code",
   "execution_count": null,
   "metadata": {},
   "outputs": [],
   "source": []
  }
 ],
 "metadata": {
  "kernelspec": {
   "display_name": "Python 3",
   "language": "python",
   "name": "python3"
  },
  "language_info": {
   "codemirror_mode": {
    "name": "ipython",
    "version": 3
   },
   "file_extension": ".py",
   "mimetype": "text/x-python",
   "name": "python",
   "nbconvert_exporter": "python",
   "pygments_lexer": "ipython3",
   "version": "3.8.5"
  }
 },
 "nbformat": 4,
 "nbformat_minor": 4
}
